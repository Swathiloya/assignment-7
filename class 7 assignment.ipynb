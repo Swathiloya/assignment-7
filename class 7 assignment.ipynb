{
 "cells": [
  {
   "cell_type": "code",
   "execution_count": null,
   "id": "8395919f",
   "metadata": {},
   "outputs": [],
   "source": [
    "#Scenario1:\n",
    "#credit card offer.\n",
    "# if your salary is less than 10000.  credit limit 10 times of your salary. \n",
    "# if your salary is 10000 to 30000.  Credit limit is 20 time of your salary.\n",
    "# if your salary is more than 30000.  Credit limit is 30 times of your salary.\n",
    "# క్రెడిట్ కార్డ్ ఆఫర్. \n",
    "# మీ జీతం 10000 కంటే తక్కువ ఉంటే. క్రెడిట్ పరిమితి మీ జీతంకి 10 రెట్లు. \n",
    "# మీ జీతం 10000 నుండి 30000 వరకు ఉంటే. క్రెడిట్ పరిమితి మీ జీతంలో 20 రెట్లు .\n",
    "# మీ జీతం 30000 కంటే ఎక్కువ ఉంటే క్రెడిట్ పరిమితి మీ జీతం కంటే 30 రెట్లు.\n",
    " \n"
   ]
  },
  {
   "cell_type": "code",
   "execution_count": 9,
   "id": "9569fc34",
   "metadata": {},
   "outputs": [],
   "source": [
    "def creditcardoffer(salary,credit_limit):\n",
    "    if salary<10000:\n",
    "        credit_limit=salary*10\n",
    "    elif salary>=10000 and salary<=30000:\n",
    "        credit_limit=salary*20\n",
    "    elif salary>30000:\n",
    "        credit_limit=salary*30\n",
    "    return credit_limit        "
   ]
  },
  {
   "cell_type": "code",
   "execution_count": 11,
   "id": "cb9d091c",
   "metadata": {},
   "outputs": [
    {
     "data": {
      "text/plain": [
       "90000"
      ]
     },
     "execution_count": 11,
     "metadata": {},
     "output_type": "execute_result"
    }
   ],
   "source": [
    "creditcardoffer(9000,10)"
   ]
  },
  {
   "cell_type": "code",
   "execution_count": 12,
   "id": "4364c015",
   "metadata": {},
   "outputs": [
    {
     "data": {
      "text/plain": [
       "400000"
      ]
     },
     "execution_count": 12,
     "metadata": {},
     "output_type": "execute_result"
    }
   ],
   "source": [
    "creditcardoffer(20000,20)"
   ]
  },
  {
   "cell_type": "code",
   "execution_count": 13,
   "id": "e6c88d5f",
   "metadata": {},
   "outputs": [
    {
     "data": {
      "text/plain": [
       "1200000"
      ]
     },
     "execution_count": 13,
     "metadata": {},
     "output_type": "execute_result"
    }
   ],
   "source": [
    "creditcardoffer(40000,30)"
   ]
  },
  {
   "cell_type": "code",
   "execution_count": null,
   "id": "dd5a9d54",
   "metadata": {},
   "outputs": [],
   "source": [
    "#Scenario2:\n",
    "#DMart discount offer. \n",
    "# if your purchase amount is less than 20000. discount is 20%.\n",
    "#if your purchase amount is 20000 to 40000. discount is 30%. \n",
    "#if your purchase amount is more than 50000. discount is 40%.\n",
    "\n",
    "#DMart తగ్గింపు ఆఫర్. మీ కొనుగోలు మొత్తం 20000 కంటే తక్కువ ఉంటే. తగ్గింపు 20%.\n",
    "#మీ కొనుగోలు మొత్తం 20000 నుండి 40000 వరకు ఉంటే. తగ్గింపు 30%. \n",
    "#మీ కొనుగోలు మొత్తం 50000 కంటే ఎక్కువ ఉంటే. తగ్గింపు 40%."
   ]
  },
  {
   "cell_type": "code",
   "execution_count": 35,
   "id": "384719b4",
   "metadata": {},
   "outputs": [],
   "source": [
    "def dmart_amount_offer(purchase,discount):\n",
    "    if purchase<20000:\n",
    "        discount=purchase*.20\n",
    "    elif purchase>=20000 and purchase<=40000 :\n",
    "        discount=purchase*.30\n",
    "    elif purchase>50000:\n",
    "        discount=purchase*.40\n",
    "    return discount     "
   ]
  },
  {
   "cell_type": "code",
   "execution_count": 36,
   "id": "0b6738b1",
   "metadata": {},
   "outputs": [
    {
     "data": {
      "text/plain": [
       "2000.0"
      ]
     },
     "execution_count": 36,
     "metadata": {},
     "output_type": "execute_result"
    }
   ],
   "source": [
    "dmart_amount_offer(10000,20)"
   ]
  },
  {
   "cell_type": "code",
   "execution_count": 37,
   "id": "cd899280",
   "metadata": {},
   "outputs": [
    {
     "data": {
      "text/plain": [
       "9000.0"
      ]
     },
     "execution_count": 37,
     "metadata": {},
     "output_type": "execute_result"
    }
   ],
   "source": [
    "dmart_amount_offer(30000,30)"
   ]
  },
  {
   "cell_type": "code",
   "execution_count": 38,
   "id": "8a17d843",
   "metadata": {},
   "outputs": [
    {
     "data": {
      "text/plain": [
       "24000.0"
      ]
     },
     "execution_count": 38,
     "metadata": {},
     "output_type": "execute_result"
    }
   ],
   "source": [
    "dmart_amount_offer(60000,40)"
   ]
  },
  {
   "cell_type": "code",
   "execution_count": null,
   "id": "733627a8",
   "metadata": {},
   "outputs": [],
   "source": [
    "#Scenario3:\n",
    "#Amazom online offer. \n",
    "#if product is electoric type then 20% discount. \n",
    "#if product is cloth type then 30% discount. \n",
    "#if product is footware then 40% discount.\n",
    "#Amazom ఆన్‌లైన్ ఆఫర్.\n",
    "# ఉత్పత్తి ఎలక్టోరిక్ రకం అయితే 20% తగ్గింపు. \n",
    "# ఉత్పత్తి వస్త్రం రకం అయితే 30% తగ్గింపు. \n",
    "# ఉత్పత్తి ఫుట్‌వేర్ అయితే 40% తగ్గింపు.\n",
    "\n",
    " \n"
   ]
  },
  {
   "cell_type": "code",
   "execution_count": 3,
   "id": "3a84731a",
   "metadata": {},
   "outputs": [],
   "source": [
    "def Amazom_online_offer(product,cost):\n",
    "    if product==\"electiric\":\n",
    "        discount=cost*.20\n",
    "    elif product==\"cloth\":\n",
    "        discount=cost*.30\n",
    "    elif product==\"footware\":\n",
    "        discount=cost*.40\n",
    "    return discount    \n",
    "    "
   ]
  },
  {
   "cell_type": "code",
   "execution_count": 4,
   "id": "a729573c",
   "metadata": {},
   "outputs": [
    {
     "data": {
      "text/plain": [
       "400.0"
      ]
     },
     "execution_count": 4,
     "metadata": {},
     "output_type": "execute_result"
    }
   ],
   "source": [
    "Amazom_online_offer(\"electiric\",2000)"
   ]
  },
  {
   "cell_type": "code",
   "execution_count": 5,
   "id": "51e4b591",
   "metadata": {},
   "outputs": [
    {
     "data": {
      "text/plain": [
       "600.0"
      ]
     },
     "execution_count": 5,
     "metadata": {},
     "output_type": "execute_result"
    }
   ],
   "source": [
    "Amazom_online_offer(\"cloth\",2000)"
   ]
  },
  {
   "cell_type": "code",
   "execution_count": 8,
   "id": "2f88c96e",
   "metadata": {},
   "outputs": [
    {
     "data": {
      "text/plain": [
       "200.0"
      ]
     },
     "execution_count": 8,
     "metadata": {},
     "output_type": "execute_result"
    }
   ],
   "source": [
    "Amazom_online_offer(\"footware\",500)"
   ]
  }
 ],
 "metadata": {
  "kernelspec": {
   "display_name": "Python 3 (ipykernel)",
   "language": "python",
   "name": "python3"
  },
  "language_info": {
   "codemirror_mode": {
    "name": "ipython",
    "version": 3
   },
   "file_extension": ".py",
   "mimetype": "text/x-python",
   "name": "python",
   "nbconvert_exporter": "python",
   "pygments_lexer": "ipython3",
   "version": "3.10.9"
  }
 },
 "nbformat": 4,
 "nbformat_minor": 5
}
